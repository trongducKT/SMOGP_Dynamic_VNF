{
 "cells": [
  {
   "cell_type": "code",
   "execution_count": 5,
   "metadata": {},
   "outputs": [],
   "source": [
    "import csv\n",
    "import pandas as pd\n",
    "import numpy as np\n",
    "\n",
    "def read_csv(filename):\n",
    "    with open(filename, 'r') as f:\n",
    "        data = pd.read_csv(f)\n",
    "        alpha =[float(value) for value in data.loc[::2, 'alpha']]\n",
    "        print(len(alpha))\n",
    "        fitness = [float(value) for value in data.loc[::2, 'fitness']]\n",
    "        cost = [float(value) for value in data.loc[::2, 'cost']]\n",
    "        rejected = [float(value) for value in data.loc[::2, 'rejected']]\n",
    "        max_request = rejected[0]\n",
    "        max_cost = 0\n",
    "        for i in range(len(cost)):\n",
    "            if cost[i] != 0:\n",
    "                alpha_i = alpha[i]\n",
    "                fitness_i = fitness[i]\n",
    "                cost_i = cost[i]\n",
    "                rejected_i = rejected[i]\n",
    "                max_cost = (1 - alpha_i)*cost_i/(fitness_i - alpha_i* rejected_i/ max_request)\n",
    "                break\n",
    "        \n",
    "        objective = []\n",
    "        for i in range(len(cost)):\n",
    "            objective.append([cost[i]/max_cost, rejected[i]/max_request])\n",
    "        return objective, np.array(cost)/max_cost, np.array(rejected)/max_request\n"
   ]
  },
  {
   "cell_type": "code",
   "execution_count": 6,
   "metadata": {},
   "outputs": [
    {
     "name": "stdout",
     "output_type": "stream",
     "text": [
      "51\n"
     ]
    }
   ],
   "source": [
    "objective, cost, rejected = read_csv(r\"Result_SingleObjective\\nsf_rural_normal_s3.csv\")"
   ]
  },
  {
   "cell_type": "code",
   "execution_count": 7,
   "metadata": {},
   "outputs": [
    {
     "name": "stdout",
     "output_type": "stream",
     "text": [
      "[1.         1.         1.         1.         1.         1.\n",
      " 1.         1.         1.         1.         1.         1.\n",
      " 1.         1.         1.         0.77147162 0.76996484 0.76996484\n",
      " 0.73932697 0.7679558  0.74234053 0.7654445  0.73782019 0.51481668\n",
      " 0.46007032 0.28779508 0.28227022 0.28779508 0.17980914 0.17327976\n",
      " 0.19839277 0.14967353 0.12757408 0.13661477 0.11501758 0.13661477\n",
      " 0.14163737 0.13259669 0.12908086 0.13761929 0.12405826 0.11752888\n",
      " 0.13661477 0.11803114 0.11953792 0.11702662 0.1160221  0.1260673\n",
      " 0.12255148 0.11551984 0.13209442]\n"
     ]
    }
   ],
   "source": [
    "print(rejected)"
   ]
  },
  {
   "cell_type": "code",
   "execution_count": 8,
   "metadata": {},
   "outputs": [
    {
     "name": "stdout",
     "output_type": "stream",
     "text": [
      "51\n",
      "\n",
      "Compiled modules for significant speedup can not be used!\n",
      "https://pymoo.org/installation.html#installation\n",
      "\n",
      "To disable this warning:\n",
      "from pymoo.config import Config\n",
      "Config.warnings['not_compiled'] = False\n",
      "\n",
      "0.5622876071763445\n"
     ]
    }
   ],
   "source": [
    "from utils.utils import cal_hv\n",
    "import numpy as np\n",
    "print(len(objective))\n",
    "print(cal_hv(np.array(objective), np.array([1,1,])))"
   ]
  },
  {
   "cell_type": "code",
   "execution_count": 76,
   "metadata": {},
   "outputs": [
    {
     "data": {
      "text/plain": [
       "<matplotlib.collections.PathCollection at 0x1de76e1e5a0>"
      ]
     },
     "execution_count": 76,
     "metadata": {},
     "output_type": "execute_result"
    },
    {
     "data": {
      "image/png": "[encoded data removed]",
      "text/plain": [
       "<Figure size 640x480 with 1 Axes>"
      ]
     },
     "metadata": {},
     "output_type": "display_data"
    }
   ],
   "source": [
    "import matplotlib.pyplot as plt\n",
    "\n",
    "plt.scatter(cost, rejected)"
   ]
  }
 ],
 "metadata": {
  "kernelspec": {
   "display_name": "Python 3",
   "language": "python",
   "name": "python3"
  },
  "language_info": {
   "codemirror_mode": {
    "name": "ipython",
    "version": 3
   },
   "file_extension": ".py",
   "mimetype": "text/x-python",
   "name": "python",
   "nbconvert_exporter": "python",
   "pygments_lexer": "ipython3",
   "version": "3.12.0"
  }
 },
 "nbformat": 4,
 "nbformat_minor": 2
}
