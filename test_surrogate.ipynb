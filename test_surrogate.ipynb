{
 "cells": [
  {
   "cell_type": "code",
   "execution_count": 1,
   "metadata": {},
   "outputs": [
    {
     "ename": "TypeError",
     "evalue": "SurrogateNSGAPopulation.__init__() missing 1 required positional argument: 'neighbor_num'",
     "output_type": "error",
     "traceback": [
      "\u001b[1;31m---------------------------------------------------------------------------\u001b[0m",
      "\u001b[1;31mTypeError\u001b[0m                                 Traceback (most recent call last)",
      "Cell \u001b[1;32mIn[1], line 35\u001b[0m\n\u001b[0;32m     33\u001b[0m terminal_decision \u001b[38;5;241m=\u001b[39m [DDR(), BR(), RRS(), CRS(), MRS(), ARS(), CRS(), MRS(), MDR(), PN(), Const()]\n\u001b[0;32m     34\u001b[0m terminal_choosing \u001b[38;5;241m=\u001b[39m [RCSe(), RRSe(), RMSe(), MLU(), CS(), DS(), MUC(), MUM(), MUR(), Const()]\n\u001b[1;32m---> 35\u001b[0m SurrogatePopulation \u001b[38;5;241m=\u001b[39m \u001b[43mSurrogateNSGAPopulation\u001b[49m\u001b[43m(\u001b[49m\u001b[38;5;241;43m100\u001b[39;49m\u001b[43m,\u001b[49m\u001b[43m \u001b[49m\u001b[43mfunction\u001b[49m\u001b[43m,\u001b[49m\u001b[43m \u001b[49m\u001b[43mterminal_decision\u001b[49m\u001b[43m,\u001b[49m\u001b[43m \u001b[49m\u001b[43mterminal_choosing\u001b[49m\u001b[43m,\u001b[49m\u001b[43m \u001b[49m\u001b[38;5;241;43m2\u001b[39;49m\u001b[43m,\u001b[49m\u001b[43m \u001b[49m\u001b[38;5;241;43m8\u001b[39;49m\u001b[43m,\u001b[49m\u001b[43m \u001b[49m\u001b[38;5;241;43m4\u001b[39;49m\u001b[43m,\u001b[49m\u001b[43m \u001b[49m\u001b[38;5;241;43m2\u001b[39;49m\u001b[43m,\u001b[49m\u001b[43m \u001b[49m\u001b[38;5;241;43m0.8\u001b[39;49m\u001b[43m,\u001b[49m\n\u001b[0;32m     36\u001b[0m \u001b[43m                                              \u001b[49m\u001b[38;5;241;43m0.8\u001b[39;49m\u001b[43m,\u001b[49m\u001b[43m \u001b[49m\u001b[38;5;241;43m0.1\u001b[39;49m\u001b[43m,\u001b[49m\u001b[43m \u001b[49m\u001b[38;5;28;43;01mNone\u001b[39;49;00m\u001b[43m,\u001b[49m\u001b[43m \u001b[49m\u001b[38;5;28;43;01mNone\u001b[39;49;00m\u001b[43m,\u001b[49m\u001b[43m \u001b[49m\u001b[38;5;28;43;01mNone\u001b[39;49;00m\u001b[43m,\u001b[49m\u001b[43m \u001b[49m\u001b[38;5;28;43;01mNone\u001b[39;49;00m\u001b[43m,\u001b[49m\u001b[43m \u001b[49m\u001b[38;5;28;43;01mNone\u001b[39;49;00m\u001b[43m,\u001b[49m\u001b[43m \u001b[49m\u001b[43msurrogate\u001b[49m\u001b[43m,\u001b[49m\u001b[43m \u001b[49m\u001b[43mrule_ref\u001b[49m\u001b[43m)\u001b[49m\n\u001b[0;32m     37\u001b[0m SurrogatePopulation\u001b[38;5;241m.\u001b[39mrandom_init()\n",
      "\u001b[1;31mTypeError\u001b[0m: SurrogateNSGAPopulation.__init__() missing 1 required positional argument: 'neighbor_num'"
     ]
    }
   ],
   "source": [
    "from run_algorithm.train_Surrogate_NSGA_II import *\n",
    "from gp.node.function import *\n",
    "from gp.node.terminal import *\n",
    "from gp.population.population import *\n",
    "from utils.function_operator import *\n",
    "from run_algorithm.algorithms import *\n",
    "from deployment.evaluation import calFitness, calFitness_removeGPvalue\n",
    "\n",
    "node1 = SubNode()\n",
    "node1.AppendChild(PN())\n",
    "node1.AppendChild(DDR())\n",
    "\n",
    "node2 = AddNode()\n",
    "node2.AppendChild(MUC())\n",
    "node2.AppendChild(MUR())\n",
    "\n",
    "node3 = AddNode()\n",
    "node3.AppendChild(node2)\n",
    "node3.AppendChild(MUM())\n",
    "\n",
    "node4 = SubNode()\n",
    "node4.AppendChild(Zero_Node())\n",
    "node4.AppendChild(CS())\n",
    "\n",
    "node5 = SubNode()\n",
    "node5.AppendChild(node4)\n",
    "node5.AppendChild(node3)\n",
    "\n",
    "rule_ref = Ref_Rule(node1, node5)\n",
    "surrogate = Surrogate(20, rule_ref)\n",
    "surrogate.gen_situations(10, 50, 10, 20)\n",
    "function = [AddNode(), SubNode(), MulNode(), DivNode(), MaxNode(), MinNode()]\n",
    "terminal_decision = [DDR(), BR(), RRS(), CRS(), MRS(), ARS(), CRS(), MRS(), MDR(), PN(), Const()]\n",
    "terminal_choosing = [RCSe(), RRSe(), RMSe(), MLU(), CS(), DS(), MUC(), MUM(), MUR(), Const()]\n",
    "SurrogatePopulation = SurrogateNSGAPopulation(100, function, terminal_decision, terminal_choosing, 2, 8, 4, 2, 0.8,\n",
    "                                              0.8, 0.1, None, None, None, None, None, surrogate, rule_ref)\n",
    "SurrogatePopulation.random_init()"
   ]
  }
 ],
 "metadata": {
  "kernelspec": {
   "display_name": "Python 3",
   "language": "python",
   "name": "python3"
  },
  "language_info": {
   "codemirror_mode": {
    "name": "ipython",
    "version": 3
   },
   "file_extension": ".py",
   "mimetype": "text/x-python",
   "name": "python",
   "nbconvert_exporter": "python",
   "pygments_lexer": "ipython3",
   "version": "3.12.0"
  }
 },
 "nbformat": 4,
 "nbformat_minor": 2
}
