{
 "cells": [
  {
   "cell_type": "code",
   "execution_count": 9,
   "metadata": {},
   "outputs": [],
   "source": [
    "from utils.utils import cal_hv\n",
    "import json\n",
    "import numpy as np\n",
    "\n",
    "\n",
    "def cal(file_path):\n",
    "    with open(file_path, 'r') as f:\n",
    "        data = json.load(f)\n",
    "    test_result = data['test_result']\n",
    "    objectives = []\n",
    "    for value in test_result:\n",
    "        objectives.append([value[\"normal_reject\"], value[\"normal_cost\"]])\n",
    "    objectives = np.array(objectives)\n",
    "    hv = cal_hv(objectives, np.array([1,1]))\n",
    "    time = data[\"time_train\"]\n",
    "    return hv, time\n",
    "\n",
    "def cal_algorithms(data_set):\n",
    "    print(data_set[:-5])\n",
    "    surrogate_path = \"Test_result/Surrogate/\" + data_set\n",
    "    print(\"Surrogate\")\n",
    "    print(cal(surrogate_path))\n",
    "\n",
    "    NSGAII_path = \"Test_result/NSGAII/\" + data_set\n",
    "    print(\"NSGAII\")\n",
    "    print(cal(NSGAII_path))\n",
    "\n",
    "    MOEAD_path = \"Test_result/MOEAD/\" + data_set\n",
    "    print(\"MOEAD\")\n",
    "    print(cal(MOEAD_path))\n",
    "\n",
    "    SPEA_path = \"Test_result/SPEA/\" + data_set\n",
    "    print(\"SPEA\")\n",
    "    print(cal(SPEA_path))\n",
    "\n"
   ]
  },
  {
   "cell_type": "code",
   "execution_count": 14,
   "metadata": {},
   "outputs": [
    {
     "name": "stdout",
     "output_type": "stream",
     "text": [
      "nsf_centers_easy_s3\n",
      "Surrogate\n",
      "(0.13649967093141077, 341.76517605781555)\n",
      "NSGAII\n",
      "(0.13761593858767948, 1150.021490097046)\n",
      "MOEAD\n",
      "(0.13777685342298152, 1169.5608775615692)\n",
      "SPEA\n",
      "(0.1326106681190549, 1606.181119441986)\n"
     ]
    }
   ],
   "source": [
    "cal_algorithms(\"nsf_centers_easy_s3.json\")"
   ]
  },
  {
   "cell_type": "code",
   "execution_count": 15,
   "metadata": {},
   "outputs": [
    {
     "name": "stdout",
     "output_type": "stream",
     "text": [
      "nsf_centers_hard_s3\n",
      "Surrogate\n",
      "(0.16555343389462732, 1314.6013622283936)\n",
      "NSGAII\n",
      "(0.16828153216838507, 3280.8819234371185)\n",
      "MOEAD\n",
      "(0.16965441598102726, 3798.5264599323273)\n",
      "SPEA\n",
      "(0.15853880476419216, 6956.865525007248)\n"
     ]
    }
   ],
   "source": [
    "cal_algorithms(\"nsf_centers_hard_s3.json\")\n"
   ]
  },
  {
   "cell_type": "code",
   "execution_count": 16,
   "metadata": {},
   "outputs": [
    {
     "name": "stdout",
     "output_type": "stream",
     "text": [
      "nsf_centers_normal_s3\n",
      "Surrogate\n",
      "(0.1558483657110979, 466.3978068828583)\n",
      "NSGAII\n",
      "(0.15659568545803826, 1583.058861732483)\n",
      "MOEAD\n",
      "(0.15460673487773027, 1444.9109947681427)\n",
      "SPEA\n",
      "(0.145130227636935, 1918.3201296329498)\n"
     ]
    }
   ],
   "source": [
    "cal_algorithms(\"nsf_centers_normal_s3.json\")"
   ]
  },
  {
   "cell_type": "code",
   "execution_count": null,
   "metadata": {},
   "outputs": [],
   "source": [
    "cal_algorithms(\"nsf_centers_normal_s3.json\")"
   ]
  }
 ],
 "metadata": {
  "kernelspec": {
   "display_name": "Python 3",
   "language": "python",
   "name": "python3"
  },
  "language_info": {
   "codemirror_mode": {
    "name": "ipython",
    "version": 3
   },
   "file_extension": ".py",
   "mimetype": "text/x-python",
   "name": "python",
   "nbconvert_exporter": "python",
   "pygments_lexer": "ipython3",
   "version": "3.12.0"
  }
 },
 "nbformat": 4,
 "nbformat_minor": 2
}
