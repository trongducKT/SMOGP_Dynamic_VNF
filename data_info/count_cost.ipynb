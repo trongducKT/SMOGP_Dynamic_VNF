{
 "cells": [
  {
   "cell_type": "code",
   "execution_count": 1,
   "metadata": {},
   "outputs": [],
   "source": [
    "from gp.node.function import *\n",
    "from gp.node.terminal import *\n",
    "from gp.population.gp import *\n",
    "from read_data import *\n",
    "from decision_var import Decision, Chosing\n",
    "from network.network import Network\n",
    "from utils import *\n",
    "import time \n",
    "import multiprocessing     \n",
    "import csv\n",
    "import numba as nb\n",
    "import random\n",
    "import os"
   ]
  },
  {
   "cell_type": "code",
   "execution_count": 2,
   "metadata": {},
   "outputs": [
    {
     "name": "stdout",
     "output_type": "stream",
     "text": [
      "[{'dataset': 'cogent_centers_easy_s1', 'max_cost': 729928.4495219599, 'request': 1991}, {'dataset': 'cogent_centers_easy_s2', 'max_cost': 611910.6460831698, 'request': 2025}, {'dataset': 'cogent_centers_easy_s3', 'max_cost': 748664.3228850175, 'request': 2035}, {'dataset': 'cogent_centers_hard_s1', 'max_cost': 3337957.700371548, 'request': 1929}, {'dataset': 'cogent_centers_hard_s2', 'max_cost': 3280599.113369946, 'request': 1987}, {'dataset': 'cogent_centers_hard_s3', 'max_cost': 3841666.9699927494, 'request': 2022}, {'dataset': 'cogent_centers_normal_s1', 'max_cost': 1407224.3387231305, 'request': 2027}, {'dataset': 'cogent_centers_normal_s2', 'max_cost': 1621891.7636283988, 'request': 1947}, {'dataset': 'cogent_centers_normal_s3', 'max_cost': 1429141.2840706022, 'request': 1986}, {'dataset': 'cogent_rural_easy_s1', 'max_cost': 2600497.056810092, 'request': 2005}, {'dataset': 'cogent_rural_easy_s2', 'max_cost': 2257618.952640845, 'request': 2036}, {'dataset': 'cogent_rural_easy_s3', 'max_cost': 2235021.6073057004, 'request': 2013}, {'dataset': 'cogent_rural_hard_s1', 'max_cost': 12289491.950308679, 'request': 2024}, {'dataset': 'cogent_rural_hard_s2', 'max_cost': 12304397.553851983, 'request': 2008}, {'dataset': 'cogent_rural_hard_s3', 'max_cost': 12121814.40774685, 'request': 1917}, {'dataset': 'cogent_rural_normal_s1', 'max_cost': 3586522.4255706533, 'request': 2043}, {'dataset': 'cogent_rural_normal_s2', 'max_cost': 4228934.821349139, 'request': 2083}, {'dataset': 'cogent_rural_normal_s3', 'max_cost': 4830494.842205914, 'request': 2032}, {'dataset': 'cogent_uniform_easy_s1', 'max_cost': 2410361.3352869134, 'request': 1996}, {'dataset': 'cogent_uniform_easy_s2', 'max_cost': 2314707.3345216415, 'request': 1997}, {'dataset': 'cogent_uniform_easy_s3', 'max_cost': 2616812.245316046, 'request': 2008}, {'dataset': 'cogent_uniform_hard_s1', 'max_cost': 11340292.764604878, 'request': 2120}, {'dataset': 'cogent_uniform_hard_s2', 'max_cost': 12856442.224995282, 'request': 2055}, {'dataset': 'cogent_uniform_hard_s3', 'max_cost': 11175244.79489634, 'request': 2049}, {'dataset': 'cogent_uniform_normal_s1', 'max_cost': 3499874.7488624076, 'request': 2023}, {'dataset': 'cogent_uniform_normal_s2', 'max_cost': 4604568.066165815, 'request': 2006}, {'dataset': 'cogent_uniform_normal_s3', 'max_cost': 4313454.487896031, 'request': 2082}, {'dataset': 'cogent_urban_easy_s1', 'max_cost': 2225677.43625842, 'request': 2024}, {'dataset': 'cogent_urban_easy_s2', 'max_cost': 2332610.965942224, 'request': 2127}, {'dataset': 'cogent_urban_easy_s3', 'max_cost': 2352436.3896303605, 'request': 1962}, {'dataset': 'cogent_urban_hard_s1', 'max_cost': 11280602.630266694, 'request': 1987}, {'dataset': 'cogent_urban_hard_s2', 'max_cost': 10482673.783127714, 'request': 2003}, {'dataset': 'cogent_urban_hard_s3', 'max_cost': 11110297.863243308, 'request': 1963}, {'dataset': 'cogent_urban_normal_s1', 'max_cost': 3625814.7076008585, 'request': 2004}, {'dataset': 'cogent_urban_normal_s2', 'max_cost': 4325199.568093745, 'request': 2035}, {'dataset': 'cogent_urban_normal_s3', 'max_cost': 4396264.407222856, 'request': 1985}, {'dataset': 'conus_centers_easy_s1', 'max_cost': 414935.7609227415, 'request': 2007}, {'dataset': 'conus_centers_easy_s2', 'max_cost': 467704.6900103633, 'request': 1965}, {'dataset': 'conus_centers_easy_s3', 'max_cost': 464832.7660465397, 'request': 1981}, {'dataset': 'conus_centers_hard_s1', 'max_cost': 2611250.7811232503, 'request': 1990}, {'dataset': 'conus_centers_hard_s2', 'max_cost': 1994851.4840360095, 'request': 2049}, {'dataset': 'conus_centers_hard_s3', 'max_cost': 2589546.141845763, 'request': 2060}, {'dataset': 'conus_centers_normal_s1', 'max_cost': 921928.5041295125, 'request': 1993}, {'dataset': 'conus_centers_normal_s2', 'max_cost': 964874.3364713059, 'request': 2009}, {'dataset': 'conus_centers_normal_s3', 'max_cost': 998898.1621130526, 'request': 2003}, {'dataset': 'conus_rural_easy_s1', 'max_cost': 1609354.667408035, 'request': 2024}, {'dataset': 'conus_rural_easy_s2', 'max_cost': 1994591.2680584025, 'request': 2042}, {'dataset': 'conus_rural_easy_s3', 'max_cost': 1723384.5011240984, 'request': 2031}, {'dataset': 'conus_rural_hard_s1', 'max_cost': 7976719.198311478, 'request': 1956}, {'dataset': 'conus_rural_hard_s2', 'max_cost': 9090688.95774022, 'request': 2074}, {'dataset': 'conus_rural_hard_s3', 'max_cost': 8448529.574841263, 'request': 1979}, {'dataset': 'conus_rural_normal_s1', 'max_cost': 3141730.28455897, 'request': 1989}, {'dataset': 'conus_rural_normal_s2', 'max_cost': 3463992.6000681026, 'request': 1959}, {'dataset': 'conus_rural_normal_s3', 'max_cost': 3494062.322583168, 'request': 1992}, {'dataset': 'conus_uniform_easy_s1', 'max_cost': 1456463.813902183, 'request': 2102}, {'dataset': 'conus_uniform_easy_s2', 'max_cost': 1655441.4470175623, 'request': 2005}, {'dataset': 'conus_uniform_easy_s3', 'max_cost': 1745770.072439965, 'request': 1995}, {'dataset': 'conus_uniform_hard_s1', 'max_cost': 8089101.043158527, 'request': 1971}, {'dataset': 'conus_uniform_hard_s2', 'max_cost': 8257226.740177756, 'request': 1997}, {'dataset': 'conus_uniform_hard_s3', 'max_cost': 7769626.672493355, 'request': 1972}, {'dataset': 'conus_uniform_normal_s1', 'max_cost': 3009977.0641509267, 'request': 1979}, {'dataset': 'conus_uniform_normal_s2', 'max_cost': 3503452.010791901, 'request': 2074}, {'dataset': 'conus_uniform_normal_s3', 'max_cost': 3182658.125502152, 'request': 1983}, {'dataset': 'conus_urban_easy_s1', 'max_cost': 1418826.9304474462, 'request': 1930}, {'dataset': 'conus_urban_easy_s2', 'max_cost': 1586583.4346500982, 'request': 1994}, {'dataset': 'conus_urban_easy_s3', 'max_cost': 1579477.6054926056, 'request': 2048}, {'dataset': 'conus_urban_hard_s1', 'max_cost': 8001759.866309073, 'request': 2010}, {'dataset': 'conus_urban_hard_s2', 'max_cost': 7820072.347518991, 'request': 2046}, {'dataset': 'conus_urban_hard_s3', 'max_cost': 8131830.011681342, 'request': 1926}, {'dataset': 'conus_urban_normal_s1', 'max_cost': 3387897.481854214, 'request': 2043}, {'dataset': 'conus_urban_normal_s2', 'max_cost': 2568740.159199754, 'request': 1980}, {'dataset': 'conus_urban_normal_s3', 'max_cost': 3689176.1480224496, 'request': 1999}, {'dataset': 'nsf_centers_easy_s1', 'max_cost': 59976.78418295485, 'request': 1926}, {'dataset': 'nsf_centers_easy_s2', 'max_cost': 59019.966752873355, 'request': 2033}, {'dataset': 'nsf_centers_easy_s3', 'max_cost': 69647.80124840305, 'request': 1988}, {'dataset': 'nsf_centers_hard_s1', 'max_cost': 290628.39794976247, 'request': 1982}, {'dataset': 'nsf_centers_hard_s2', 'max_cost': 286109.39229263994, 'request': 2010}, {'dataset': 'nsf_centers_hard_s3', 'max_cost': 205179.35745437103, 'request': 1976}, {'dataset': 'nsf_centers_normal_s1', 'max_cost': 143610.62095492985, 'request': 1981}, {'dataset': 'nsf_centers_normal_s2', 'max_cost': 123621.99081282277, 'request': 1996}, {'dataset': 'nsf_centers_normal_s3', 'max_cost': 118262.80837162939, 'request': 2028}, {'dataset': 'nsf_rural_easy_s1', 'max_cost': 263118.49388331163, 'request': 1899}, {'dataset': 'nsf_rural_easy_s2', 'max_cost': 308851.1043299899, 'request': 1932}, {'dataset': 'nsf_rural_easy_s3', 'max_cost': 377093.9381873796, 'request': 2017}, {'dataset': 'nsf_rural_hard_s1', 'max_cost': 1795234.08017532, 'request': 1957}, {'dataset': 'nsf_rural_hard_s2-Copy1', 'max_cost': 1720578.2633081488, 'request': 2011}, {'dataset': 'nsf_rural_hard_s2', 'max_cost': 1720578.2633081488, 'request': 2011}, {'dataset': 'nsf_rural_hard_s3', 'max_cost': 1625580.6595904387, 'request': 1980}, {'dataset': 'nsf_rural_normal_s1', 'max_cost': 713263.9526178949, 'request': 1992}, {'dataset': 'nsf_rural_normal_s2', 'max_cost': 795696.8582697073, 'request': 2021}, {'dataset': 'nsf_rural_normal_s3', 'max_cost': 744448.7874081467, 'request': 1991}, {'dataset': 'nsf_uniform_easy_s1', 'max_cost': 258632.8989383846, 'request': 2008}, {'dataset': 'nsf_uniform_easy_s2', 'max_cost': 249199.42260876132, 'request': 1962}, {'dataset': 'nsf_uniform_easy_s3', 'max_cost': 275537.709789585, 'request': 2026}, {'dataset': 'nsf_uniform_hard_s1', 'max_cost': 1448230.3286648535, 'request': 1994}, {'dataset': 'nsf_uniform_hard_s2', 'max_cost': 1327057.861871289, 'request': 1970}, {'dataset': 'nsf_uniform_hard_s3', 'max_cost': 1408207.0355879248, 'request': 2000}, {'dataset': 'nsf_uniform_normal_s1', 'max_cost': 510566.7394007946, 'request': 1973}, {'dataset': 'nsf_uniform_normal_s2', 'max_cost': 459775.340112128, 'request': 2001}, {'dataset': 'nsf_uniform_normal_s3', 'max_cost': 475368.49495587737, 'request': 1953}, {'dataset': 'nsf_urban_easy_s1', 'max_cost': 294058.4409844073, 'request': 2018}, {'dataset': 'nsf_urban_easy_s2', 'max_cost': 252102.34976322477, 'request': 2062}, {'dataset': 'nsf_urban_easy_s3', 'max_cost': 271951.7938268375, 'request': 2009}, {'dataset': 'nsf_urban_hard_s1', 'max_cost': 1282143.845376559, 'request': 1952}, {'dataset': 'nsf_urban_hard_s2', 'max_cost': 1467291.2630075272, 'request': 1989}, {'dataset': 'nsf_urban_hard_s3', 'max_cost': 1498035.6942670075, 'request': 2128}, {'dataset': 'nsf_urban_normal_s1', 'max_cost': 500603.0708639967, 'request': 2010}, {'dataset': 'nsf_urban_normal_s2', 'max_cost': 588403.980472756, 'request': 2069}, {'dataset': 'nsf_urban_normal_s3', 'max_cost': 453527.1389778922, 'request': 1940}]\n"
     ]
    }
   ],
   "source": [
    "current_path = os.getcwd()\n",
    "folder_path = \"data_1_9\"\n",
    "result = []\n",
    "\n",
    "os.chdir(folder_path)\n",
    "for file in os.listdir():\n",
    "    # path_name = \"data_1_9/\" + file\n",
    "    data = Read_data(file)\n",
    "    request_list = data.get_R()\n",
    "    vnf_list = data.get_F()\n",
    "    node_list = data.get_V()\n",
    "    link_node = data.get_E()\n",
    "    \n",
    "    network = Network()\n",
    "    network.add_node_to_network(node_list)\n",
    "    network.add_link_to_network(link_node)\n",
    "\n",
    "    get_max_cost_vnf(network.MDC_nodes, vnf_list)\n",
    "    \n",
    "    request_train = []\n",
    "    request_test = []\n",
    "    for request in request_list:\n",
    "        if request.arrival <= 10:\n",
    "            request_train.append(request)\n",
    "        else: \n",
    "            request_test.append(request)\n",
    "    sum_max_cost = get_max_cost_request(vnf_list, request_test)        \n",
    "    temp = {\n",
    "        \"dataset\": file[:-5],\n",
    "        \"max_cost\": sum_max_cost,\n",
    "        \"request\": len(request_test)\n",
    "    }\n",
    "    result.append(temp)\n",
    "print(result)\n",
    "\n",
    "os.chdir(current_path)\n",
    "# data = Read_data(data_path)\n",
    "#     request_list = data.get_R()\n",
    "#     vnf_list = data.get_F()\n",
    "#     node_list = data.get_V()\n",
    "#     link_node = data.get_E()\n",
    "\n",
    "#     network = Network()\n",
    "#     network.add_node_to_network(node_list)\n",
    "#     network.add_link_to_network(link_node)\n",
    "\n",
    "#     get_max_cost_vnf(network.MDC_nodes, vnf_list)\n",
    "    \n",
    "#     request_train = []\n",
    "#     request_test = []\n",
    "#     for request in request_list:\n",
    "#         if request.arrival <= num_train:\n",
    "#             request_train.append(request)\n",
    "#         else: \n",
    "#             request_test.append(request)"
   ]
  },
  {
   "cell_type": "code",
   "execution_count": 4,
   "metadata": {},
   "outputs": [],
   "source": [
    "path = \"thongke.csv\"\n",
    "\n",
    "with open (path, \"w\", newline='') as csv_file:\n",
    "    namefields = [\"dataset\", \"max_cost\", \"request\"]\n",
    "    writer = csv.DictWriter(csv_file, fieldnames=namefields)\n",
    "    writer.writeheader()\n",
    "    for row in result:\n",
    "        writer.writerow(row)\n",
    "\n",
    "    \n"
   ]
  }
 ],
 "metadata": {
  "kernelspec": {
   "display_name": "Python 3",
   "language": "python",
   "name": "python3"
  },
  "language_info": {
   "codemirror_mode": {
    "name": "ipython",
    "version": 3
   },
   "file_extension": ".py",
   "mimetype": "text/x-python",
   "name": "python",
   "nbconvert_exporter": "python",
   "pygments_lexer": "ipython3",
   "version": "3.11.2"
  }
 },
 "nbformat": 4,
 "nbformat_minor": 2
}
